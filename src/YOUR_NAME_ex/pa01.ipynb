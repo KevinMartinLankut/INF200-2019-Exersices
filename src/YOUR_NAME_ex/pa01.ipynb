{
 "cells": [
  {
   "cell_type": "code",
   "execution_count": 5,
   "metadata": {},
   "outputs": [
    {
     "ename": "ModuleNotFoundError",
     "evalue": "No module named 'snakes_and_ladders'",
     "output_type": "error",
     "traceback": [
      "\u001b[1;31m---------------------------------------------------------------------------\u001b[0m",
      "\u001b[1;31mModuleNotFoundError\u001b[0m                       Traceback (most recent call last)",
      "\u001b[1;32m<ipython-input-5-aef760ba0cec>\u001b[0m in \u001b[0;36m<module>\u001b[1;34m\u001b[0m\n\u001b[1;32m----> 1\u001b[1;33m \u001b[1;32mfrom\u001b[0m \u001b[0msnakes_and_ladders\u001b[0m \u001b[1;32mimport\u001b[0m \u001b[1;33m*\u001b[0m\u001b[1;33m\u001b[0m\u001b[1;33m\u001b[0m\u001b[0m\n\u001b[0m\u001b[0;32m      2\u001b[0m \u001b[1;33m\u001b[0m\u001b[0m\n\u001b[0;32m      3\u001b[0m \u001b[0mmulti_game_experiment\u001b[0m\u001b[1;33m(\u001b[0m\u001b[1;36m100\u001b[0m\u001b[1;33m,\u001b[0m \u001b[1;36m4\u001b[0m\u001b[1;33m,\u001b[0m \u001b[1;36m89\u001b[0m\u001b[1;33m)\u001b[0m\u001b[1;33m\u001b[0m\u001b[1;33m\u001b[0m\u001b[0m\n",
      "\u001b[1;31mModuleNotFoundError\u001b[0m: No module named 'snakes_and_ladders'"
     ]
    }
   ],
   "source": [
    "from snakes_and_ladders import * \n",
    "\n",
    "multi_game_experiment(100, 4, 89)"
   ]
  },
  {
   "cell_type": "code",
   "execution_count": 6,
   "metadata": {},
   "outputs": [
    {
     "name": "stdout",
     "output_type": "stream",
     "text": [
      " Volume in drive C is OS\n",
      " Volume Serial Number is 46F4-9ECF\n",
      "\n",
      " Directory of C:\\Users\\appar\n",
      "\n",
      "18.10.2019  09.05    <DIR>          .\n",
      "18.10.2019  09.05    <DIR>          ..\n",
      "14.03.2019  00.21    <DIR>          .anaconda\n",
      "08.09.2019  22.46    <DIR>          .astropy\n",
      "18.10.2019  09.09    <DIR>          .conda\n",
      "18.10.2019  09.04                43 .condarc\n",
      "30.09.2019  15.11    <DIR>          .cookiecutter_replay\n",
      "30.09.2019  15.08    <DIR>          .cookiecutters\n",
      "05.09.2019  23.25                53 .gitconfig\n",
      "18.10.2019  09.05    <DIR>          .ipynb_checkpoints\n",
      "14.03.2019  13.18    <DIR>          .ipython\n",
      "09.09.2019  14.18    <DIR>          .jupyter\n",
      "14.03.2019  13.18    <DIR>          .matplotlib\n",
      "05.09.2019  23.41    <DIR>          .PyCharm2019.2\n",
      "16.10.2019  12.29    <DIR>          .spyder-py3\n",
      "10.10.2019  12.14    <DIR>          3D Objects\n",
      "30.09.2019  15.22    <DIR>          Anaconda3\n",
      "18.10.2019  09.04                72 chutes_analysis.ipynb\n",
      "10.10.2019  12.14    <DIR>          Contacts\n",
      "10.10.2019  12.14    <DIR>          Desktop\n",
      "15.05.2018  12.23    <DIR>          Documents\n",
      "16.10.2019  13.01    <DIR>          Downloads\n",
      "15.10.2019  13.59    <DIR>          Dropbox\n",
      "10.10.2019  12.14    <DIR>          Favorites\n",
      "09.09.2019  16.00             2 930 Forelesning_1.ipynb\n",
      "07.10.2019  16.00             9 549 Lecture 07.10.ipynb\n",
      "10.10.2019  12.14    <DIR>          Links\n",
      "10.10.2019  12.14    <DIR>          Music\n",
      "18.10.2019  08.13    <DIR>          OneDrive\n",
      "15.05.2018  12.23    <DIR>          Pictures\n",
      "06.09.2019  11.32    <DIR>          PycharmProjects\n",
      "27.05.2017  19.40    <DIR>          Roaming\n",
      "10.10.2019  12.14    <DIR>          Saved Games\n",
      "10.10.2019  12.14    <DIR>          Searches\n",
      "22.05.2016  14.52    <DIR>          Tracing\n",
      "16.09.2019  14.19               653 Untitled.ipynb\n",
      "30.09.2019  14.18               648 Untitled1.ipynb\n",
      "18.10.2019  08.13    <DIR>          Videos\n",
      "               7 File(s)         13 948 bytes\n",
      "              31 Dir(s)  122 915 487 744 bytes free\n"
     ]
    }
   ],
   "source": [
    "%ls"
   ]
  },
  {
   "cell_type": "code",
   "execution_count": null,
   "metadata": {},
   "outputs": [],
   "source": []
  }
 ],
 "metadata": {
  "kernelspec": {
   "display_name": "Python 3",
   "language": "python",
   "name": "python3"
  },
  "language_info": {
   "codemirror_mode": {
    "name": "ipython",
    "version": 3
   },
   "file_extension": ".py",
   "mimetype": "text/x-python",
   "name": "python",
   "nbconvert_exporter": "python",
   "pygments_lexer": "ipython3",
   "version": "3.7.1"
  }
 },
 "nbformat": 4,
 "nbformat_minor": 2
}
